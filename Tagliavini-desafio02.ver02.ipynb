{
 "cells": [
  {
   "cell_type": "code",
   "execution_count": 20,
   "id": "afbc1fbe",
   "metadata": {},
   "outputs": [],
   "source": [
    "import pandas as pd\n",
    "import numpy as np\n",
    "import matplotlib as mpl\n",
    "import matplotlib.pyplot as plt\n",
    "import seaborn as sns"
   ]
  },
  {
   "cell_type": "code",
   "execution_count": 21,
   "id": "63eb0b65",
   "metadata": {},
   "outputs": [],
   "source": [
    "git_url = 'https://raw.githubusercontent.com/Ftagliavini/DataScience/main/titles.csv?token=GHSAT0AAAAAACCBTXYZKO2TYWXHVMM5XNYCZCONI5A'\n",
    "titulos_nfx = pd.read_csv(git_url, sep = ',')"
   ]
  },
  {
   "cell_type": "code",
   "execution_count": 22,
   "id": "9d73ec6f",
   "metadata": {
    "scrolled": true
   },
   "outputs": [
    {
     "name": "stdout",
     "output_type": "stream",
     "text": [
      "<class 'pandas.core.frame.DataFrame'>\n",
      "RangeIndex: 6137 entries, 0 to 6136\n",
      "Data columns (total 15 columns):\n",
      " #   Column                Non-Null Count  Dtype  \n",
      "---  ------                --------------  -----  \n",
      " 0   id                    6137 non-null   object \n",
      " 1   title                 6137 non-null   object \n",
      " 2   type                  6137 non-null   object \n",
      " 3   description           6114 non-null   object \n",
      " 4   release_year          6137 non-null   int64  \n",
      " 5   age_certification     3394 non-null   object \n",
      " 6   runtime               6137 non-null   int64  \n",
      " 7   genres                6137 non-null   object \n",
      " 8   production_countries  6137 non-null   object \n",
      " 9   seasons               2306 non-null   float64\n",
      " 10  imdb_id               5741 non-null   object \n",
      " 11  imdb_score            5669 non-null   float64\n",
      " 12  imdb_votes            5653 non-null   float64\n",
      " 13  tmdb_popularity       6061 non-null   float64\n",
      " 14  tmdb_score            5885 non-null   float64\n",
      "dtypes: float64(5), int64(2), object(8)\n",
      "memory usage: 719.3+ KB\n"
     ]
    }
   ],
   "source": [
    "titulos_nfx.info()"
   ]
  },
  {
   "cell_type": "code",
   "execution_count": 4,
   "id": "d401ba39",
   "metadata": {},
   "outputs": [
    {
     "data": {
      "text/html": [
       "<div>\n",
       "<style scoped>\n",
       "    .dataframe tbody tr th:only-of-type {\n",
       "        vertical-align: middle;\n",
       "    }\n",
       "\n",
       "    .dataframe tbody tr th {\n",
       "        vertical-align: top;\n",
       "    }\n",
       "\n",
       "    .dataframe thead th {\n",
       "        text-align: right;\n",
       "    }\n",
       "</style>\n",
       "<table border=\"1\" class=\"dataframe\">\n",
       "  <thead>\n",
       "    <tr style=\"text-align: right;\">\n",
       "      <th></th>\n",
       "      <th>release_year</th>\n",
       "      <th>runtime</th>\n",
       "      <th>seasons</th>\n",
       "      <th>imdb_score</th>\n",
       "      <th>imdb_votes</th>\n",
       "      <th>tmdb_popularity</th>\n",
       "      <th>tmdb_score</th>\n",
       "    </tr>\n",
       "  </thead>\n",
       "  <tbody>\n",
       "    <tr>\n",
       "      <th>count</th>\n",
       "      <td>6137.000000</td>\n",
       "      <td>6137.000000</td>\n",
       "      <td>2306.000000</td>\n",
       "      <td>5669.000000</td>\n",
       "      <td>5.653000e+03</td>\n",
       "      <td>6061.000000</td>\n",
       "      <td>5885.000000</td>\n",
       "    </tr>\n",
       "    <tr>\n",
       "      <th>mean</th>\n",
       "      <td>2017.371843</td>\n",
       "      <td>76.381946</td>\n",
       "      <td>2.106678</td>\n",
       "      <td>6.540942</td>\n",
       "      <td>2.115029e+04</td>\n",
       "      <td>19.267196</td>\n",
       "      <td>6.633194</td>\n",
       "    </tr>\n",
       "    <tr>\n",
       "      <th>std</th>\n",
       "      <td>6.603620</td>\n",
       "      <td>39.086828</td>\n",
       "      <td>2.716844</td>\n",
       "      <td>1.135944</td>\n",
       "      <td>9.254225e+04</td>\n",
       "      <td>51.291407</td>\n",
       "      <td>1.251610</td>\n",
       "    </tr>\n",
       "    <tr>\n",
       "      <th>min</th>\n",
       "      <td>1945.000000</td>\n",
       "      <td>0.000000</td>\n",
       "      <td>1.000000</td>\n",
       "      <td>1.500000</td>\n",
       "      <td>5.000000e+00</td>\n",
       "      <td>0.009442</td>\n",
       "      <td>0.500000</td>\n",
       "    </tr>\n",
       "    <tr>\n",
       "      <th>25%</th>\n",
       "      <td>2017.000000</td>\n",
       "      <td>44.000000</td>\n",
       "      <td>1.000000</td>\n",
       "      <td>5.800000</td>\n",
       "      <td>5.170000e+02</td>\n",
       "      <td>3.381000</td>\n",
       "      <td>6.000000</td>\n",
       "    </tr>\n",
       "    <tr>\n",
       "      <th>50%</th>\n",
       "      <td>2019.000000</td>\n",
       "      <td>80.000000</td>\n",
       "      <td>1.000000</td>\n",
       "      <td>6.600000</td>\n",
       "      <td>2.095000e+03</td>\n",
       "      <td>7.580000</td>\n",
       "      <td>6.791000</td>\n",
       "    </tr>\n",
       "    <tr>\n",
       "      <th>75%</th>\n",
       "      <td>2021.000000</td>\n",
       "      <td>105.000000</td>\n",
       "      <td>2.000000</td>\n",
       "      <td>7.300000</td>\n",
       "      <td>8.884000e+03</td>\n",
       "      <td>16.523000</td>\n",
       "      <td>7.400000</td>\n",
       "    </tr>\n",
       "    <tr>\n",
       "      <th>max</th>\n",
       "      <td>2023.000000</td>\n",
       "      <td>225.000000</td>\n",
       "      <td>44.000000</td>\n",
       "      <td>9.600000</td>\n",
       "      <td>2.684317e+06</td>\n",
       "      <td>1078.637000</td>\n",
       "      <td>10.000000</td>\n",
       "    </tr>\n",
       "  </tbody>\n",
       "</table>\n",
       "</div>"
      ],
      "text/plain": [
       "       release_year      runtime      seasons   imdb_score    imdb_votes  \\\n",
       "count   6137.000000  6137.000000  2306.000000  5669.000000  5.653000e+03   \n",
       "mean    2017.371843    76.381946     2.106678     6.540942  2.115029e+04   \n",
       "std        6.603620    39.086828     2.716844     1.135944  9.254225e+04   \n",
       "min     1945.000000     0.000000     1.000000     1.500000  5.000000e+00   \n",
       "25%     2017.000000    44.000000     1.000000     5.800000  5.170000e+02   \n",
       "50%     2019.000000    80.000000     1.000000     6.600000  2.095000e+03   \n",
       "75%     2021.000000   105.000000     2.000000     7.300000  8.884000e+03   \n",
       "max     2023.000000   225.000000    44.000000     9.600000  2.684317e+06   \n",
       "\n",
       "       tmdb_popularity   tmdb_score  \n",
       "count      6061.000000  5885.000000  \n",
       "mean         19.267196     6.633194  \n",
       "std          51.291407     1.251610  \n",
       "min           0.009442     0.500000  \n",
       "25%           3.381000     6.000000  \n",
       "50%           7.580000     6.791000  \n",
       "75%          16.523000     7.400000  \n",
       "max        1078.637000    10.000000  "
      ]
     },
     "execution_count": 4,
     "metadata": {},
     "output_type": "execute_result"
    }
   ],
   "source": [
    "titulos_nfx.describe()"
   ]
  },
  {
   "cell_type": "code",
   "execution_count": 29,
   "id": "eb11fcb2",
   "metadata": {},
   "outputs": [
    {
     "data": {
      "text/plain": [
       "array(['SHOW', 'MOVIE'], dtype=object)"
      ]
     },
     "execution_count": 29,
     "metadata": {},
     "output_type": "execute_result"
    }
   ],
   "source": [
    "titulos_nfx['type'].unique()"
   ]
  },
  {
   "cell_type": "code",
   "execution_count": 51,
   "id": "09cb1e92",
   "metadata": {},
   "outputs": [
    {
     "data": {
      "text/plain": [
       "count           6137\n",
       "unique          1712\n",
       "top       ['comedy']\n",
       "freq             516\n",
       "Name: genres, dtype: object"
      ]
     },
     "execution_count": 51,
     "metadata": {},
     "output_type": "execute_result"
    }
   ],
   "source": [
    "#titulos_nfx['genres'].unique()\n",
    "titulos_nfx['genres'].describe()"
   ]
  },
  {
   "cell_type": "code",
   "execution_count": 15,
   "id": "57604266",
   "metadata": {},
   "outputs": [
    {
     "data": {
      "text/plain": [
       "count      3394\n",
       "unique       12\n",
       "top       TV-MA\n",
       "freq       1018\n",
       "Name: age_certification, dtype: object"
      ]
     },
     "execution_count": 15,
     "metadata": {},
     "output_type": "execute_result"
    }
   ],
   "source": [
    "#titulos_nfx['age_certification'].unique()\n",
    "titulos_nfx['age_certification'].describe()"
   ]
  },
  {
   "cell_type": "code",
   "execution_count": 16,
   "id": "9364862b",
   "metadata": {},
   "outputs": [
    {
     "data": {
      "text/plain": [
       "count       6137\n",
       "unique       438\n",
       "top       ['US']\n",
       "freq        1981\n",
       "Name: production_countries, dtype: object"
      ]
     },
     "execution_count": 16,
     "metadata": {},
     "output_type": "execute_result"
    }
   ],
   "source": [
    "titulos_nfx['production_countries'].describe()"
   ]
  },
  {
   "cell_type": "markdown",
   "id": "1f03e5ed",
   "metadata": {},
   "source": [
    "#etiquetar ejes\n",
    "    ax.set_xlabel\n",
    "    ax.set_ylabel\n",
    "#agregar título al gráfico\n",
    "    ax.set_title\n",
    "#agregar una leyenda\n",
    "    ax.legend\n",
    "#definir límites\n",
    "    ax.set_xlimit\n",
    "    ax.set_ylimit\n",
    "#agregar una línea vertical\n",
    "    ax.axvline\n",
    "#agregar una línea horizontal\n",
    "    ax-axhline\n",
    "#lista de parametrizaciones\n",
    "    mpl.rcParams.keys()"
   ]
  },
  {
   "cell_type": "markdown",
   "id": "e6e96797",
   "metadata": {},
   "source": [
    "# Gráficar proporción de mercado entre series y películas"
   ]
  },
  {
   "cell_type": "code",
   "execution_count": 38,
   "id": "ecec3cf9",
   "metadata": {},
   "outputs": [
    {
     "name": "stdout",
     "output_type": "stream",
     "text": [
      "MOVIE    3831\n",
      "SHOW     2306\n",
      "Name: type, dtype: int64\n"
     ]
    }
   ],
   "source": [
    "tipos = titulos_nfx['type'].value_counts()\n",
    "print(tipos)"
   ]
  },
  {
   "cell_type": "code",
   "execution_count": 50,
   "id": "2153505b",
   "metadata": {},
   "outputs": [
    {
     "data": {
      "text/plain": [
       "<matplotlib.legend.Legend at 0x17f2e7ddf60>"
      ]
     },
     "execution_count": 50,
     "metadata": {},
     "output_type": "execute_result"
    },
    {
     "data": {
      "image/png": "[encoded data removed]",
      "text/plain": [
       "<Figure size 640x480 with 1 Axes>"
      ]
     },
     "metadata": {},
     "output_type": "display_data"
    }
   ],
   "source": [
    "fig, ax = plt.subplots()\n",
    "ax.pie(tipos,autopct = '%1.1f%%',startangle=90)\n",
    "ax.set_title('Tipos de producciones')\n",
    "ax.legend(tipos.index)\n"
   ]
  },
  {
   "cell_type": "markdown",
   "id": "0791ff40",
   "metadata": {},
   "source": [
    "# # Graficar línea de tiempo de producciones"
   ]
  },
  {
   "cell_type": "code",
   "execution_count": 81,
   "id": "b780d7a4",
   "metadata": {},
   "outputs": [
    {
     "data": {
      "text/html": [
       "<div>\n",
       "<style scoped>\n",
       "    .dataframe tbody tr th:only-of-type {\n",
       "        vertical-align: middle;\n",
       "    }\n",
       "\n",
       "    .dataframe tbody tr th {\n",
       "        vertical-align: top;\n",
       "    }\n",
       "\n",
       "    .dataframe thead th {\n",
       "        text-align: right;\n",
       "    }\n",
       "</style>\n",
       "<table border=\"1\" class=\"dataframe\">\n",
       "  <thead>\n",
       "    <tr style=\"text-align: right;\">\n",
       "      <th></th>\n",
       "      <th>release_year</th>\n",
       "      <th>type</th>\n",
       "    </tr>\n",
       "  </thead>\n",
       "  <tbody>\n",
       "    <tr>\n",
       "      <th>0</th>\n",
       "      <td>1945</td>\n",
       "      <td>SHOW</td>\n",
       "    </tr>\n",
       "    <tr>\n",
       "      <th>1</th>\n",
       "      <td>1976</td>\n",
       "      <td>MOVIE</td>\n",
       "    </tr>\n",
       "    <tr>\n",
       "      <th>2</th>\n",
       "      <td>1978</td>\n",
       "      <td>MOVIE</td>\n",
       "    </tr>\n",
       "    <tr>\n",
       "      <th>3</th>\n",
       "      <td>1973</td>\n",
       "      <td>MOVIE</td>\n",
       "    </tr>\n",
       "    <tr>\n",
       "      <th>4</th>\n",
       "      <td>1979</td>\n",
       "      <td>MOVIE</td>\n",
       "    </tr>\n",
       "    <tr>\n",
       "      <th>...</th>\n",
       "      <td>...</td>\n",
       "      <td>...</td>\n",
       "    </tr>\n",
       "    <tr>\n",
       "      <th>6132</th>\n",
       "      <td>2023</td>\n",
       "      <td>MOVIE</td>\n",
       "    </tr>\n",
       "    <tr>\n",
       "      <th>6133</th>\n",
       "      <td>2023</td>\n",
       "      <td>MOVIE</td>\n",
       "    </tr>\n",
       "    <tr>\n",
       "      <th>6134</th>\n",
       "      <td>2023</td>\n",
       "      <td>MOVIE</td>\n",
       "    </tr>\n",
       "    <tr>\n",
       "      <th>6135</th>\n",
       "      <td>2023</td>\n",
       "      <td>MOVIE</td>\n",
       "    </tr>\n",
       "    <tr>\n",
       "      <th>6136</th>\n",
       "      <td>2023</td>\n",
       "      <td>MOVIE</td>\n",
       "    </tr>\n",
       "  </tbody>\n",
       "</table>\n",
       "<p>6137 rows × 2 columns</p>\n",
       "</div>"
      ],
      "text/plain": [
       "      release_year   type\n",
       "0             1945   SHOW\n",
       "1             1976  MOVIE\n",
       "2             1978  MOVIE\n",
       "3             1973  MOVIE\n",
       "4             1979  MOVIE\n",
       "...            ...    ...\n",
       "6132          2023  MOVIE\n",
       "6133          2023  MOVIE\n",
       "6134          2023  MOVIE\n",
       "6135          2023  MOVIE\n",
       "6136          2023  MOVIE\n",
       "\n",
       "[6137 rows x 2 columns]"
      ]
     },
     "execution_count": 81,
     "metadata": {},
     "output_type": "execute_result"
    }
   ],
   "source": [
    "#x=release_year\n",
    "#y=tipos\n",
    "temporal = titulos_nfx[['release_year','type']]\n",
    "temporal"
   ]
  },
  {
   "cell_type": "code",
   "execution_count": 82,
   "id": "cd82c0ed",
   "metadata": {},
   "outputs": [
    {
     "data": {
      "text/plain": [
       "array([1945, 1976, 1978, 1973, 1979, 1975, 1969, 1954, 1977, 1971, 1958,\n",
       "       1972, 1966, 1980, 1974, 1962, 1963, 1956, 1970, 1989, 1986, 1985,\n",
       "       1982, 1990, 1988, 1984, 1987, 1981, 1983, 2000, 1999, 1997, 1993,\n",
       "       1994, 1992, 1998, 1995, 1996, 1991, 2008, 2010, 2005, 2003, 2009,\n",
       "       2002, 2001, 2006, 2007, 2004, 2011, 2012, 2014, 2013, 2015, 2016,\n",
       "       2018, 2017, 2019, 2020, 2022, 2021, 2023], dtype=int64)"
      ]
     },
     "execution_count": 82,
     "metadata": {},
     "output_type": "execute_result"
    }
   ],
   "source": [
    "tipos_years = titulos_nfx['release_year'].unique()\n",
    "tipos_years"
   ]
  },
  {
   "cell_type": "code",
   "execution_count": 83,
   "id": "cad2b9f3",
   "metadata": {},
   "outputs": [
    {
     "data": {
      "text/html": [
       "<div>\n",
       "<style scoped>\n",
       "    .dataframe tbody tr th:only-of-type {\n",
       "        vertical-align: middle;\n",
       "    }\n",
       "\n",
       "    .dataframe tbody tr th {\n",
       "        vertical-align: top;\n",
       "    }\n",
       "\n",
       "    .dataframe thead th {\n",
       "        text-align: right;\n",
       "    }\n",
       "</style>\n",
       "<table border=\"1\" class=\"dataframe\">\n",
       "  <thead>\n",
       "    <tr style=\"text-align: right;\">\n",
       "      <th></th>\n",
       "      <th>release_year</th>\n",
       "      <th>type</th>\n",
       "    </tr>\n",
       "  </thead>\n",
       "  <tbody>\n",
       "    <tr>\n",
       "      <th>0</th>\n",
       "      <td>1945</td>\n",
       "      <td>SHOW</td>\n",
       "    </tr>\n",
       "    <tr>\n",
       "      <th>1</th>\n",
       "      <td>1976</td>\n",
       "      <td>MOVIE</td>\n",
       "    </tr>\n",
       "    <tr>\n",
       "      <th>2</th>\n",
       "      <td>1978</td>\n",
       "      <td>MOVIE</td>\n",
       "    </tr>\n",
       "    <tr>\n",
       "      <th>3</th>\n",
       "      <td>1973</td>\n",
       "      <td>MOVIE</td>\n",
       "    </tr>\n",
       "    <tr>\n",
       "      <th>4</th>\n",
       "      <td>1979</td>\n",
       "      <td>MOVIE</td>\n",
       "    </tr>\n",
       "    <tr>\n",
       "      <th>...</th>\n",
       "      <td>...</td>\n",
       "      <td>...</td>\n",
       "    </tr>\n",
       "    <tr>\n",
       "      <th>6132</th>\n",
       "      <td>2023</td>\n",
       "      <td>MOVIE</td>\n",
       "    </tr>\n",
       "    <tr>\n",
       "      <th>6133</th>\n",
       "      <td>2023</td>\n",
       "      <td>MOVIE</td>\n",
       "    </tr>\n",
       "    <tr>\n",
       "      <th>6134</th>\n",
       "      <td>2023</td>\n",
       "      <td>MOVIE</td>\n",
       "    </tr>\n",
       "    <tr>\n",
       "      <th>6135</th>\n",
       "      <td>2023</td>\n",
       "      <td>MOVIE</td>\n",
       "    </tr>\n",
       "    <tr>\n",
       "      <th>6136</th>\n",
       "      <td>2023</td>\n",
       "      <td>MOVIE</td>\n",
       "    </tr>\n",
       "  </tbody>\n",
       "</table>\n",
       "<p>6137 rows × 2 columns</p>\n",
       "</div>"
      ],
      "text/plain": [
       "      release_year   type\n",
       "0             1945   SHOW\n",
       "1             1976  MOVIE\n",
       "2             1978  MOVIE\n",
       "3             1973  MOVIE\n",
       "4             1979  MOVIE\n",
       "...            ...    ...\n",
       "6132          2023  MOVIE\n",
       "6133          2023  MOVIE\n",
       "6134          2023  MOVIE\n",
       "6135          2023  MOVIE\n",
       "6136          2023  MOVIE\n",
       "\n",
       "[6137 rows x 2 columns]"
      ]
     },
     "execution_count": 83,
     "metadata": {},
     "output_type": "execute_result"
    }
   ],
   "source": [
    "tipos = titulos_nfx[['release_year','type']]\n",
    "tipos"
   ]
  },
  {
   "cell_type": "code",
   "execution_count": 126,
   "id": "8227f466",
   "metadata": {
    "scrolled": true
   },
   "outputs": [
    {
     "name": "stdout",
     "output_type": "stream",
     "text": [
      "release_year    0\n",
      "type            0\n",
      "dtype: int64\n",
      "release_year    0\n",
      "type            0\n",
      "dtype: int64\n"
     ]
    }
   ],
   "source": [
    "x = tipos['release_year'].unique()\n",
    "y_movie = tipos[tipos['type'] == 'MOVIE']\n",
    "y_show = tipos[tipos['type'] == 'SHOW']\n",
    "print(y_show.isnull().sum())\n",
    "print(y_movie.isnull().sum())\n"
   ]
  },
  {
   "cell_type": "code",
   "execution_count": 129,
   "id": "ec43ac91",
   "metadata": {},
   "outputs": [
    {
     "data": {
      "text/html": [
       "<div>\n",
       "<style scoped>\n",
       "    .dataframe tbody tr th:only-of-type {\n",
       "        vertical-align: middle;\n",
       "    }\n",
       "\n",
       "    .dataframe tbody tr th {\n",
       "        vertical-align: top;\n",
       "    }\n",
       "\n",
       "    .dataframe thead th {\n",
       "        text-align: right;\n",
       "    }\n",
       "</style>\n",
       "<table border=\"1\" class=\"dataframe\">\n",
       "  <thead>\n",
       "    <tr style=\"text-align: right;\">\n",
       "      <th></th>\n",
       "      <th>type</th>\n",
       "    </tr>\n",
       "    <tr>\n",
       "      <th>release_year</th>\n",
       "      <th></th>\n",
       "    </tr>\n",
       "  </thead>\n",
       "  <tbody>\n",
       "    <tr>\n",
       "      <th>1954</th>\n",
       "      <td>2</td>\n",
       "    </tr>\n",
       "    <tr>\n",
       "      <th>1956</th>\n",
       "      <td>1</td>\n",
       "    </tr>\n",
       "    <tr>\n",
       "      <th>1958</th>\n",
       "      <td>1</td>\n",
       "    </tr>\n",
       "    <tr>\n",
       "      <th>1962</th>\n",
       "      <td>1</td>\n",
       "    </tr>\n",
       "    <tr>\n",
       "      <th>1963</th>\n",
       "      <td>1</td>\n",
       "    </tr>\n",
       "    <tr>\n",
       "      <th>...</th>\n",
       "      <td>...</td>\n",
       "    </tr>\n",
       "    <tr>\n",
       "      <th>2019</th>\n",
       "      <td>473</td>\n",
       "    </tr>\n",
       "    <tr>\n",
       "      <th>2020</th>\n",
       "      <td>496</td>\n",
       "    </tr>\n",
       "    <tr>\n",
       "      <th>2021</th>\n",
       "      <td>542</td>\n",
       "    </tr>\n",
       "    <tr>\n",
       "      <th>2022</th>\n",
       "      <td>545</td>\n",
       "    </tr>\n",
       "    <tr>\n",
       "      <th>2023</th>\n",
       "      <td>47</td>\n",
       "    </tr>\n",
       "  </tbody>\n",
       "</table>\n",
       "<p>61 rows × 1 columns</p>\n",
       "</div>"
      ],
      "text/plain": [
       "              type\n",
       "release_year      \n",
       "1954             2\n",
       "1956             1\n",
       "1958             1\n",
       "1962             1\n",
       "1963             1\n",
       "...            ...\n",
       "2019           473\n",
       "2020           496\n",
       "2021           542\n",
       "2022           545\n",
       "2023            47\n",
       "\n",
       "[61 rows x 1 columns]"
      ]
     },
     "execution_count": 129,
     "metadata": {},
     "output_type": "execute_result"
    }
   ],
   "source": [
    "y_movie_grouped_year = y_movie.groupby('release_year').count()\n",
    "y_movie_grouped_year"
   ]
  },
  {
   "cell_type": "code",
   "execution_count": 131,
   "id": "5bb1d4b1",
   "metadata": {},
   "outputs": [
    {
     "data": {
      "text/plain": [
       "<matplotlib.legend.Legend at 0x17f31beea70>"
      ]
     },
     "execution_count": 131,
     "metadata": {},
     "output_type": "execute_result"
    },
    {
     "data": {
      "image/png": "[encoded data removed]",
      "text/plain": [
       "<Figure size 500x270 with 1 Axes>"
      ]
     },
     "metadata": {},
     "output_type": "display_data"
    }
   ],
   "source": [
    "plt.figure(figsize=(5, 2.7), layout='constrained')\n",
    "plt.plot(y_movie_grouped_year, label='linear')  # Plot some data on the (implicit) axes.\n",
    "plt.xlabel('x label')\n",
    "plt.ylabel('y label')\n",
    "plt.title(\"Simple Plot\")"
   ]
  },
  {
   "cell_type": "code",
   "execution_count": 132,
   "id": "6d725cbb",
   "metadata": {},
   "outputs": [
    {
     "data": {
      "text/html": [
       "<div>\n",
       "<style scoped>\n",
       "    .dataframe tbody tr th:only-of-type {\n",
       "        vertical-align: middle;\n",
       "    }\n",
       "\n",
       "    .dataframe tbody tr th {\n",
       "        vertical-align: top;\n",
       "    }\n",
       "\n",
       "    .dataframe thead th {\n",
       "        text-align: right;\n",
       "    }\n",
       "</style>\n",
       "<table border=\"1\" class=\"dataframe\">\n",
       "  <thead>\n",
       "    <tr style=\"text-align: right;\">\n",
       "      <th></th>\n",
       "      <th>type</th>\n",
       "    </tr>\n",
       "    <tr>\n",
       "      <th>release_year</th>\n",
       "      <th></th>\n",
       "    </tr>\n",
       "  </thead>\n",
       "  <tbody>\n",
       "    <tr>\n",
       "      <th>1945</th>\n",
       "      <td>1</td>\n",
       "    </tr>\n",
       "    <tr>\n",
       "      <th>1969</th>\n",
       "      <td>1</td>\n",
       "    </tr>\n",
       "    <tr>\n",
       "      <th>1972</th>\n",
       "      <td>1</td>\n",
       "    </tr>\n",
       "    <tr>\n",
       "      <th>1981</th>\n",
       "      <td>1</td>\n",
       "    </tr>\n",
       "    <tr>\n",
       "      <th>1984</th>\n",
       "      <td>1</td>\n",
       "    </tr>\n",
       "    <tr>\n",
       "      <th>1987</th>\n",
       "      <td>1</td>\n",
       "    </tr>\n",
       "    <tr>\n",
       "      <th>1989</th>\n",
       "      <td>1</td>\n",
       "    </tr>\n",
       "    <tr>\n",
       "      <th>1991</th>\n",
       "      <td>2</td>\n",
       "    </tr>\n",
       "    <tr>\n",
       "      <th>1992</th>\n",
       "      <td>2</td>\n",
       "    </tr>\n",
       "    <tr>\n",
       "      <th>1993</th>\n",
       "      <td>2</td>\n",
       "    </tr>\n",
       "    <tr>\n",
       "      <th>1994</th>\n",
       "      <td>4</td>\n",
       "    </tr>\n",
       "    <tr>\n",
       "      <th>1995</th>\n",
       "      <td>1</td>\n",
       "    </tr>\n",
       "    <tr>\n",
       "      <th>1996</th>\n",
       "      <td>2</td>\n",
       "    </tr>\n",
       "    <tr>\n",
       "      <th>1997</th>\n",
       "      <td>1</td>\n",
       "    </tr>\n",
       "    <tr>\n",
       "      <th>1998</th>\n",
       "      <td>5</td>\n",
       "    </tr>\n",
       "    <tr>\n",
       "      <th>1999</th>\n",
       "      <td>2</td>\n",
       "    </tr>\n",
       "    <tr>\n",
       "      <th>2000</th>\n",
       "      <td>6</td>\n",
       "    </tr>\n",
       "    <tr>\n",
       "      <th>2001</th>\n",
       "      <td>6</td>\n",
       "    </tr>\n",
       "    <tr>\n",
       "      <th>2002</th>\n",
       "      <td>7</td>\n",
       "    </tr>\n",
       "    <tr>\n",
       "      <th>2003</th>\n",
       "      <td>7</td>\n",
       "    </tr>\n",
       "    <tr>\n",
       "      <th>2004</th>\n",
       "      <td>5</td>\n",
       "    </tr>\n",
       "    <tr>\n",
       "      <th>2005</th>\n",
       "      <td>9</td>\n",
       "    </tr>\n",
       "    <tr>\n",
       "      <th>2006</th>\n",
       "      <td>11</td>\n",
       "    </tr>\n",
       "    <tr>\n",
       "      <th>2007</th>\n",
       "      <td>9</td>\n",
       "    </tr>\n",
       "    <tr>\n",
       "      <th>2008</th>\n",
       "      <td>9</td>\n",
       "    </tr>\n",
       "    <tr>\n",
       "      <th>2009</th>\n",
       "      <td>18</td>\n",
       "    </tr>\n",
       "    <tr>\n",
       "      <th>2010</th>\n",
       "      <td>18</td>\n",
       "    </tr>\n",
       "    <tr>\n",
       "      <th>2011</th>\n",
       "      <td>24</td>\n",
       "    </tr>\n",
       "    <tr>\n",
       "      <th>2012</th>\n",
       "      <td>32</td>\n",
       "    </tr>\n",
       "    <tr>\n",
       "      <th>2013</th>\n",
       "      <td>26</td>\n",
       "    </tr>\n",
       "    <tr>\n",
       "      <th>2014</th>\n",
       "      <td>40</td>\n",
       "    </tr>\n",
       "    <tr>\n",
       "      <th>2015</th>\n",
       "      <td>78</td>\n",
       "    </tr>\n",
       "    <tr>\n",
       "      <th>2016</th>\n",
       "      <td>124</td>\n",
       "    </tr>\n",
       "    <tr>\n",
       "      <th>2017</th>\n",
       "      <td>168</td>\n",
       "    </tr>\n",
       "    <tr>\n",
       "      <th>2018</th>\n",
       "      <td>287</td>\n",
       "    </tr>\n",
       "    <tr>\n",
       "      <th>2019</th>\n",
       "      <td>315</td>\n",
       "    </tr>\n",
       "    <tr>\n",
       "      <th>2020</th>\n",
       "      <td>333</td>\n",
       "    </tr>\n",
       "    <tr>\n",
       "      <th>2021</th>\n",
       "      <td>326</td>\n",
       "    </tr>\n",
       "    <tr>\n",
       "      <th>2022</th>\n",
       "      <td>370</td>\n",
       "    </tr>\n",
       "    <tr>\n",
       "      <th>2023</th>\n",
       "      <td>50</td>\n",
       "    </tr>\n",
       "  </tbody>\n",
       "</table>\n",
       "</div>"
      ],
      "text/plain": [
       "              type\n",
       "release_year      \n",
       "1945             1\n",
       "1969             1\n",
       "1972             1\n",
       "1981             1\n",
       "1984             1\n",
       "1987             1\n",
       "1989             1\n",
       "1991             2\n",
       "1992             2\n",
       "1993             2\n",
       "1994             4\n",
       "1995             1\n",
       "1996             2\n",
       "1997             1\n",
       "1998             5\n",
       "1999             2\n",
       "2000             6\n",
       "2001             6\n",
       "2002             7\n",
       "2003             7\n",
       "2004             5\n",
       "2005             9\n",
       "2006            11\n",
       "2007             9\n",
       "2008             9\n",
       "2009            18\n",
       "2010            18\n",
       "2011            24\n",
       "2012            32\n",
       "2013            26\n",
       "2014            40\n",
       "2015            78\n",
       "2016           124\n",
       "2017           168\n",
       "2018           287\n",
       "2019           315\n",
       "2020           333\n",
       "2021           326\n",
       "2022           370\n",
       "2023            50"
      ]
     },
     "execution_count": 132,
     "metadata": {},
     "output_type": "execute_result"
    }
   ],
   "source": [
    "y_show_grouped_year = y_show.groupby('release_year').count()\n",
    "y_show_grouped_year"
   ]
  },
  {
   "cell_type": "code",
   "execution_count": 133,
   "id": "2189cb10",
   "metadata": {},
   "outputs": [
    {
     "data": {
      "text/plain": [
       "<matplotlib.legend.Legend at 0x17f31ce72b0>"
      ]
     },
     "execution_count": 133,
     "metadata": {},
     "output_type": "execute_result"
    },
    {
     "data": {
      "image/png": "[encoded data removed]",
      "text/plain": [
       "<Figure size 500x270 with 1 Axes>"
      ]
     },
     "metadata": {},
     "output_type": "display_data"
    }
   ],
   "source": [
    "plt.figure(figsize=(5, 2.7), layout='constrained')\n",
    "plt.plot(y_show_grouped_year, label='linear')  # Plot some data on the (implicit) axes.\n",
    "plt.xlabel('x label')\n",
    "plt.ylabel('y label')\n",
    "plt.title(\"Simple Plot\")"
   ]
  },
  {
   "cell_type": "code",
   "execution_count": 134,
   "id": "a5972f3e",
   "metadata": {},
   "outputs": [
    {
     "data": {
      "text/plain": [
       "<matplotlib.legend.Legend at 0x17f31d62e00>"
      ]
     },
     "execution_count": 134,
     "metadata": {},
     "output_type": "execute_result"
    },
    {
     "data": {
      "image/png": "[encoded data removed]",
      "text/plain": [
       "<Figure size 500x270 with 1 Axes>"
      ]
     },
     "metadata": {},
     "output_type": "display_data"
    }
   ],
   "source": [
    "plt.figure(figsize=(5, 2.7), layout='constrained')\n",
    "plt.plot(y_movie_grouped_year, label='movie')\n",
    "plt.plot(y_show_grouped_year, label='show')\n",
    "plt.xlabel('x label')\n",
    "plt.ylabel('y label')\n",
    "plt.title(\"Simple Plot\")\n",
    "plt.legend()"
   ]
  },
  {
   "cell_type": "markdown",
   "id": "7fb5e4cb",
   "metadata": {},
   "source": [
    "# #Gráfica asociada a una distribución de rangos etarios - clasificación"
   ]
  },
  {
   "cell_type": "code",
   "execution_count": 137,
   "id": "9370c7fe",
   "metadata": {},
   "outputs": [
    {
     "data": {
      "text/plain": [
       "array(['TV-MA', 'PG', 'R', 'TV-14', nan, 'TV-PG', 'PG-13', 'TV-Y',\n",
       "       'TV-Y7', 'TV-G', 'G', 'NC-17', 'TV-Y7-FV'], dtype=object)"
      ]
     },
     "execution_count": 137,
     "metadata": {},
     "output_type": "execute_result"
    }
   ],
   "source": [
    "titulos_nfx['age_certification'].unique()"
   ]
  },
  {
   "cell_type": "code",
   "execution_count": 153,
   "id": "28cb116c",
   "metadata": {},
   "outputs": [
    {
     "data": {
      "text/plain": [
       "age_certification\n",
       "G            130\n",
       "NC-17         11\n",
       "PG           253\n",
       "PG-13        449\n",
       "R            505\n",
       "TV-14        493\n",
       "TV-G          85\n",
       "TV-MA       1018\n",
       "TV-PG        208\n",
       "TV-Y         108\n",
       "TV-Y7        127\n",
       "TV-Y7-FV       7\n",
       "Name: id, dtype: int64"
      ]
     },
     "execution_count": 153,
     "metadata": {},
     "output_type": "execute_result"
    }
   ],
   "source": [
    "certificacion = titulos_nfx.groupby('age_certification').count()\n",
    "certificacion = certificacion['id']\n",
    "categorias = titulos_nfx['age_certification'].unique()\n",
    "certificacion"
   ]
  },
  {
   "cell_type": "code",
   "execution_count": 158,
   "id": "99a13d15",
   "metadata": {},
   "outputs": [
    {
     "data": {
      "text/plain": [
       "Text(0.5, 1.0, 'Simple Plot')"
      ]
     },
     "execution_count": 158,
     "metadata": {},
     "output_type": "execute_result"
    },
    {
     "data": {
      "image/png": "[encoded data removed]",
      "text/plain": [
       "<Figure size 500x270 with 1 Axes>"
      ]
     },
     "metadata": {},
     "output_type": "display_data"
    }
   ],
   "source": [
    "plt.figure(figsize=(5, 2.7), layout='constrained')\n",
    "plt.bar(certificacion.index,certificacion)\n",
    "plt.title(\"Gráfico producción por categorías\")"
   ]
  },
  {
   "cell_type": "markdown",
   "id": "b0a37cd5",
   "metadata": {},
   "source": [
    "# #Grafica de correlación entre puntuaciones imdb vs tmdb"
   ]
  },
  {
   "cell_type": "code",
   "execution_count": 179,
   "id": "4aee0739",
   "metadata": {},
   "outputs": [
    {
     "name": "stdout",
     "output_type": "stream",
     "text": [
      "   imdb_score  tmdb_score\n",
      "0         NaN         NaN\n",
      "1         8.1       7.782\n",
      "2         7.2       7.406\n",
      "3         8.3       8.020\n",
      "4         7.3       7.246\n"
     ]
    },
    {
     "data": {
      "text/plain": [
       "imdb_score    468\n",
       "tmdb_score    252\n",
       "dtype: int64"
      ]
     },
     "execution_count": 179,
     "metadata": {},
     "output_type": "execute_result"
    }
   ],
   "source": [
    "#imdb_scores\n",
    "#tmdb_scores\n",
    "calificaciones = titulos_nfx[['imdb_score','tmdb_score']]\n",
    "print(calificaciones.head(5))\n",
    "calificaciones.isnull().sum()"
   ]
  },
  {
   "cell_type": "code",
   "execution_count": 167,
   "id": "47d9aaae",
   "metadata": {},
   "outputs": [
    {
     "data": {
      "text/html": [
       "<div>\n",
       "<style scoped>\n",
       "    .dataframe tbody tr th:only-of-type {\n",
       "        vertical-align: middle;\n",
       "    }\n",
       "\n",
       "    .dataframe tbody tr th {\n",
       "        vertical-align: top;\n",
       "    }\n",
       "\n",
       "    .dataframe thead th {\n",
       "        text-align: right;\n",
       "    }\n",
       "</style>\n",
       "<table border=\"1\" class=\"dataframe\">\n",
       "  <thead>\n",
       "    <tr style=\"text-align: right;\">\n",
       "      <th></th>\n",
       "      <th>imdb_score</th>\n",
       "      <th>tmdb_score</th>\n",
       "    </tr>\n",
       "  </thead>\n",
       "  <tbody>\n",
       "    <tr>\n",
       "      <th>count</th>\n",
       "      <td>5669.000000</td>\n",
       "      <td>5885.000000</td>\n",
       "    </tr>\n",
       "    <tr>\n",
       "      <th>mean</th>\n",
       "      <td>6.540942</td>\n",
       "      <td>6.633194</td>\n",
       "    </tr>\n",
       "    <tr>\n",
       "      <th>std</th>\n",
       "      <td>1.135944</td>\n",
       "      <td>1.251610</td>\n",
       "    </tr>\n",
       "    <tr>\n",
       "      <th>min</th>\n",
       "      <td>1.500000</td>\n",
       "      <td>0.500000</td>\n",
       "    </tr>\n",
       "    <tr>\n",
       "      <th>25%</th>\n",
       "      <td>5.800000</td>\n",
       "      <td>6.000000</td>\n",
       "    </tr>\n",
       "    <tr>\n",
       "      <th>50%</th>\n",
       "      <td>6.600000</td>\n",
       "      <td>6.791000</td>\n",
       "    </tr>\n",
       "    <tr>\n",
       "      <th>75%</th>\n",
       "      <td>7.300000</td>\n",
       "      <td>7.400000</td>\n",
       "    </tr>\n",
       "    <tr>\n",
       "      <th>max</th>\n",
       "      <td>9.600000</td>\n",
       "      <td>10.000000</td>\n",
       "    </tr>\n",
       "  </tbody>\n",
       "</table>\n",
       "</div>"
      ],
      "text/plain": [
       "        imdb_score   tmdb_score\n",
       "count  5669.000000  5885.000000\n",
       "mean      6.540942     6.633194\n",
       "std       1.135944     1.251610\n",
       "min       1.500000     0.500000\n",
       "25%       5.800000     6.000000\n",
       "50%       6.600000     6.791000\n",
       "75%       7.300000     7.400000\n",
       "max       9.600000    10.000000"
      ]
     },
     "execution_count": 167,
     "metadata": {},
     "output_type": "execute_result"
    }
   ],
   "source": [
    "calificaciones.describe()"
   ]
  },
  {
   "cell_type": "code",
   "execution_count": 180,
   "id": "69d89e4d",
   "metadata": {},
   "outputs": [],
   "source": [
    "#calificaciones[['imdb_score','tmdb_score']] = calificaciones[['imdb_score','tmdb_score']].fillna(calificaciones[['imdb_score','tmdb_score']].mean())\n",
    "calificaciones['imdb_score'].mean()\n",
    "calificaciones['tmdb_score'].mean()\n",
    "calificaciones= calificaciones[['imdb_score','tmdb_score']].fillna(calificaciones[['imdb_score','tmdb_score']].mean())"
   ]
  },
  {
   "cell_type": "code",
   "execution_count": 181,
   "id": "9e802f78",
   "metadata": {},
   "outputs": [
    {
     "data": {
      "text/plain": [
       "imdb_score    0\n",
       "tmdb_score    0\n",
       "dtype: int64"
      ]
     },
     "execution_count": 181,
     "metadata": {},
     "output_type": "execute_result"
    }
   ],
   "source": [
    "calificaciones.isnull().sum()"
   ]
  },
  {
   "cell_type": "code",
   "execution_count": 182,
   "id": "6f952356",
   "metadata": {},
   "outputs": [
    {
     "name": "stdout",
     "output_type": "stream",
     "text": [
      "   imdb_score  tmdb_score\n",
      "0    6.540942    6.633194\n",
      "1    8.100000    7.782000\n",
      "2    7.200000    7.406000\n",
      "3    8.300000    8.020000\n",
      "4    7.300000    7.246000\n"
     ]
    }
   ],
   "source": [
    "print(calificaciones.head(5))"
   ]
  },
  {
   "cell_type": "code",
   "execution_count": 183,
   "id": "b43e2149",
   "metadata": {},
   "outputs": [
    {
     "data": {
      "text/html": [
       "<div>\n",
       "<style scoped>\n",
       "    .dataframe tbody tr th:only-of-type {\n",
       "        vertical-align: middle;\n",
       "    }\n",
       "\n",
       "    .dataframe tbody tr th {\n",
       "        vertical-align: top;\n",
       "    }\n",
       "\n",
       "    .dataframe thead th {\n",
       "        text-align: right;\n",
       "    }\n",
       "</style>\n",
       "<table border=\"1\" class=\"dataframe\">\n",
       "  <thead>\n",
       "    <tr style=\"text-align: right;\">\n",
       "      <th></th>\n",
       "      <th>imdb_score</th>\n",
       "      <th>tmdb_score</th>\n",
       "    </tr>\n",
       "  </thead>\n",
       "  <tbody>\n",
       "    <tr>\n",
       "      <th>count</th>\n",
       "      <td>6137.000000</td>\n",
       "      <td>6137.000000</td>\n",
       "    </tr>\n",
       "    <tr>\n",
       "      <th>mean</th>\n",
       "      <td>6.540942</td>\n",
       "      <td>6.633194</td>\n",
       "    </tr>\n",
       "    <tr>\n",
       "      <th>std</th>\n",
       "      <td>1.091765</td>\n",
       "      <td>1.225639</td>\n",
       "    </tr>\n",
       "    <tr>\n",
       "      <th>min</th>\n",
       "      <td>1.500000</td>\n",
       "      <td>0.500000</td>\n",
       "    </tr>\n",
       "    <tr>\n",
       "      <th>25%</th>\n",
       "      <td>5.900000</td>\n",
       "      <td>6.036000</td>\n",
       "    </tr>\n",
       "    <tr>\n",
       "      <th>50%</th>\n",
       "      <td>6.540942</td>\n",
       "      <td>6.700000</td>\n",
       "    </tr>\n",
       "    <tr>\n",
       "      <th>75%</th>\n",
       "      <td>7.300000</td>\n",
       "      <td>7.400000</td>\n",
       "    </tr>\n",
       "    <tr>\n",
       "      <th>max</th>\n",
       "      <td>9.600000</td>\n",
       "      <td>10.000000</td>\n",
       "    </tr>\n",
       "  </tbody>\n",
       "</table>\n",
       "</div>"
      ],
      "text/plain": [
       "        imdb_score   tmdb_score\n",
       "count  6137.000000  6137.000000\n",
       "mean      6.540942     6.633194\n",
       "std       1.091765     1.225639\n",
       "min       1.500000     0.500000\n",
       "25%       5.900000     6.036000\n",
       "50%       6.540942     6.700000\n",
       "75%       7.300000     7.400000\n",
       "max       9.600000    10.000000"
      ]
     },
     "execution_count": 183,
     "metadata": {},
     "output_type": "execute_result"
    }
   ],
   "source": [
    "calificaciones.describe()"
   ]
  },
  {
   "cell_type": "code",
   "execution_count": 185,
   "id": "b01cbe88",
   "metadata": {},
   "outputs": [
    {
     "data": {
      "text/plain": [
       "<matplotlib.collections.PathCollection at 0x17f3170ae60>"
      ]
     },
     "execution_count": 185,
     "metadata": {},
     "output_type": "execute_result"
    },
    {
     "data": {
      "image/png": "[encoded data removed]",
      "text/plain": [
       "<Figure size 500x270 with 1 Axes>"
      ]
     },
     "metadata": {},
     "output_type": "display_data"
    }
   ],
   "source": [
    "fig, ax = plt.subplots(figsize=(5, 2.7))\n",
    "ax.scatter(calificaciones.imdb_score, calificaciones.tmdb_score)"
   ]
  },
  {
   "cell_type": "code",
   "execution_count": null,
   "id": "471878d0",
   "metadata": {},
   "outputs": [],
   "source": []
  }
 ],
 "metadata": {
  "kernelspec": {
   "display_name": "Python 3 (ipykernel)",
   "language": "python",
   "name": "python3"
  },
  "language_info": {
   "codemirror_mode": {
    "name": "ipython",
    "version": 3
   },
   "file_extension": ".py",
   "mimetype": "text/x-python",
   "name": "python",
   "nbconvert_exporter": "python",
   "pygments_lexer": "ipython3",
   "version": "3.10.9"
  }
 },
 "nbformat": 4,
 "nbformat_minor": 5
}
